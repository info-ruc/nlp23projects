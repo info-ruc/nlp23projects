{
 "cells": [
  {
   "cell_type": "markdown",
   "metadata": {},
   "source": [
    "## 读取数据"
   ]
  },
  {
   "cell_type": "code",
   "execution_count": 29,
   "metadata": {},
   "outputs": [],
   "source": [
    "import os\n",
    "\n",
    "input_texts = []\n",
    "target_texts = []\n",
    "\n",
    "root_dir = '.\\Classical-Modern-main\\双语数据'\n",
    "books = os.listdir(root_dir)\n",
    "\n",
    "def read_corpus(dir):\n",
    "    global input_texts\n",
    "    global target_texts\n",
    "    for root, dirs, files in os.walk(dir):\n",
    "        for file_name in files:\n",
    "            if file_name == 'bitext.txt':\n",
    "                file_path = os.path.join(root, file_name)\n",
    "                with open(file_path, 'r', encoding='utf-8') as file:\n",
    "                    data = file.read()\n",
    "                    pieces = data.split('\\n\\n')\n",
    "                    for piece in pieces:\n",
    "                        if piece == '':\n",
    "                            break\n",
    "                        input_texts.append(piece.split('\\n')[1][4:])\n",
    "                        target_texts.append(piece.split('\\n')[0][3:])\n",
    "    return"
   ]
  },
  {
   "cell_type": "markdown",
   "metadata": {},
   "source": [
    "## 数据预处理"
   ]
  },
  {
   "cell_type": "code",
   "execution_count": 30,
   "metadata": {},
   "outputs": [],
   "source": [
    "from jiayan import load_lm\n",
    "from jiayan import CharHMMTokenizer\n",
    "from jieba import lcut\n",
    "from torch.nn.utils.rnn import pad_sequence\n",
    "\n",
    "word2idx_input = {}\n",
    "word2idx_target = {}\n",
    "idx2word_input = {}\n",
    "idx2word_target = {}\n",
    "padded_input = []\n",
    "padded_target = []\n",
    "maxlen_input = 0\n",
    "maxlen_target = 0\n",
    "\n",
    "def data_pre_work():\n",
    "    global input_texts\n",
    "    global target_texts\n",
    "    global word2idx_input\n",
    "    global word2idx_target\n",
    "    global idx2word_input\n",
    "    global idx2word_target\n",
    "    global padded_input\n",
    "    global padded_target\n",
    "    global maxlen_input\n",
    "    global maxlen_target\n",
    "\n",
    "    # jieba对现代文进行分词\n",
    "    tokenized_input_data = [lcut(sentence) for sentence in input_texts]\n",
    "\n",
    "    # jiayan对古文进行分词\n",
    "    lm = load_lm('jiayan.klm')\n",
    "    target_tokenizer = CharHMMTokenizer(lm)\n",
    "    tokenized_target_data = [list(target_tokenizer.tokenize(sentence)) for sentence in target_texts]\n",
    "\n",
    "    # 构建词汇表\n",
    "    word2idx_input = {word: idx + 1 for idx, word in enumerate(set([word for sentence in tokenized_input_data for word in sentence]))}\n",
    "    word2idx_input['<PAD>'] = 0\n",
    "    word2idx_target = {word: idx + 1 for idx, word in enumerate(set([word for sentence in tokenized_target_data for word in sentence]))}\n",
    "    word2idx_target['<PAD>'] = 0\n",
    "\n",
    "    idx2word_input = {idx: word for word, idx in word2idx_input.items()}\n",
    "    idx2word_target = {idx: word for word, idx in word2idx_target.items()}\n",
    "\n",
    "    # 将文本转换为整数序列\n",
    "    int_input = []\n",
    "    for sentence in tokenized_input_data:\n",
    "        seq = []\n",
    "        for word in sentence:\n",
    "            if word in word2idx_input:\n",
    "                seq.append(word2idx_input[word])\n",
    "        int_input.append(seq)\n",
    "    \n",
    "    int_target = []\n",
    "    for sentence in tokenized_target_data:\n",
    "        seq = []\n",
    "        for word in sentence:\n",
    "            if word in word2idx_target:\n",
    "                seq.append(word2idx_target[word])\n",
    "        int_target.append(seq)\n",
    "\n",
    "    # 序列填充, 是所有序列具有相同的长度\n",
    "    maxlen_input = max(len(seq) for seq in input_sequences)\n",
    "    maxlen_target = max(len(seq) for seq in target_sequences)\n",
    "    # 将整数序列转换为PyTorch张量\n",
    "    tensor_input_sequence = [torch.tensor(sequence) for sequence in input_sequences]\n",
    "    tensor_target_sequence = [torch.tensor(sequence) for sequence in target_sequences]\n",
    "    padded_input = pad_sequence(tensor_input_sequence, batch_first=True)\n",
    "    padded_target = pad_sequence(tensor_target_sequence, batch_first=True)"
   ]
  },
  {
   "cell_type": "markdown",
   "metadata": {},
   "source": [
    "## 定义语言风格迁移模型"
   ]
  },
  {
   "cell_type": "code",
   "execution_count": 31,
   "metadata": {},
   "outputs": [],
   "source": [
    "from torch import nn\n",
    "class StyleTransferModel(nn.Module):\n",
    "    def __init__(self, input_size, hidden_size, output_size):\n",
    "        super(StyleTransferModel, self).__init__()\n",
    "        self.embedding = nn.Embedding(input_size, hidden_size)\n",
    "        self.lstm = nn.LSTM(hidden_size, hidden_size, batch_first=True)\n",
    "        self.fc = nn.Linear(hidden_size, output_size)\n",
    "    \n",
    "    def forward(self, input_seq):\n",
    "        embedded = self.embedding(input_seq)\n",
    "        output, _ = self.lstm(embedded)\n",
    "        output = self.fc(output[:, -1, :])  # 只使用最后一个时间步的输出\n",
    "        return output"
   ]
  },
  {
   "cell_type": "markdown",
   "metadata": {},
   "source": [
    "## 定义训练函数"
   ]
  },
  {
   "cell_type": "code",
   "execution_count": 32,
   "metadata": {},
   "outputs": [],
   "source": [
    "def train(model, input_sequences, target_sequences, criterion, optimizer, num_epochs):\n",
    "    model.train()\n",
    "    \n",
    "    for epoch in range(num_epochs):\n",
    "        optimizer.zero_grad()\n",
    "        output = model(input_sequences)\n",
    "        loss = criterion(output, target_sequences)\n",
    "        loss.backward()\n",
    "        optimizer.step()\n",
    "        \n",
    "        if (epoch + 1) % 10 == 0:\n",
    "            print(f'Epoch: {epoch+1}, Loss: {loss.item()}')"
   ]
  },
  {
   "cell_type": "markdown",
   "metadata": {},
   "source": [
    "## 定义预测函数"
   ]
  },
  {
   "cell_type": "code",
   "execution_count": 33,
   "metadata": {},
   "outputs": [],
   "source": [
    "def predict(model, input_sequence):\n",
    "    model.eval()\n",
    "    with torch.no_grad():\n",
    "        output = model(input_sequence)\n",
    "        predicted_sequence = torch.argmax(output, dim=1)\n",
    "    return predicted_sequence"
   ]
  },
  {
   "cell_type": "markdown",
   "metadata": {},
   "source": [
    "## 主函数"
   ]
  },
  {
   "cell_type": "code",
   "execution_count": 34,
   "metadata": {},
   "outputs": [
    {
     "name": "stderr",
     "output_type": "stream",
     "text": [
      "Building prefix dict from the default dictionary ...\n",
      "Loading model from cache C:\\Users\\WANGLE~1\\AppData\\Local\\Temp\\jieba.cache\n"
     ]
    },
    {
     "name": "stderr",
     "output_type": "stream",
     "text": [
      "Loading model cost 0.364 seconds.\n",
      "Prefix dict has been built successfully.\n"
     ]
    },
    {
     "ename": "OSError",
     "evalue": "Cannot read model 'jiayan.klm' (util\\file.cc:74 in util::OpenReadOrThrow threw ErrnoException because `-1 == (ret = _open(name, 0x8000 | 0x0000))'. No such file or directory while opening c:\\Users\\Wang Lei\\PycharmProjects\\pythonProject\\jiayan.klm)",
     "output_type": "error",
     "traceback": [
      "\u001b[1;31m---------------------------------------------------------------------------\u001b[0m",
      "\u001b[1;31mRuntimeError\u001b[0m                              Traceback (most recent call last)",
      "File \u001b[1;32mkenlm.pyx:139\u001b[0m, in \u001b[0;36mkenlm.Model.__init__\u001b[1;34m()\u001b[0m\n",
      "\u001b[1;31mRuntimeError\u001b[0m: util\\file.cc:74 in util::OpenReadOrThrow threw ErrnoException because `-1 == (ret = _open(name, 0x8000 | 0x0000))'.\nNo such file or directory while opening c:\\Users\\Wang Lei\\PycharmProjects\\pythonProject\\jiayan.klm",
      "\nThe above exception was the direct cause of the following exception:\n",
      "\u001b[1;31mOSError\u001b[0m                                   Traceback (most recent call last)",
      "Cell \u001b[1;32mIn[34], line 4\u001b[0m\n\u001b[0;32m      1\u001b[0m \u001b[38;5;28;01mif\u001b[39;00m \u001b[38;5;18m__name__\u001b[39m \u001b[38;5;241m==\u001b[39m \u001b[38;5;124m'\u001b[39m\u001b[38;5;124m__main__\u001b[39m\u001b[38;5;124m'\u001b[39m:\n\u001b[0;32m      2\u001b[0m     read_corpus(root_dir \u001b[38;5;241m+\u001b[39m \u001b[38;5;124m'\u001b[39m\u001b[38;5;124m//\u001b[39m\u001b[38;5;124m'\u001b[39m \u001b[38;5;241m+\u001b[39m books[\u001b[38;5;241m0\u001b[39m])\n\u001b[1;32m----> 4\u001b[0m     \u001b[43mdata_pre_work\u001b[49m\u001b[43m(\u001b[49m\u001b[43m)\u001b[49m\n\u001b[0;32m      6\u001b[0m     \u001b[38;5;66;03m# 定义超参数\u001b[39;00m\n\u001b[0;32m      7\u001b[0m     input_size \u001b[38;5;241m=\u001b[39m \u001b[38;5;28mlen\u001b[39m(word2idx_input)\n",
      "Cell \u001b[1;32mIn[30], line 31\u001b[0m, in \u001b[0;36mdata_pre_work\u001b[1;34m()\u001b[0m\n\u001b[0;32m     28\u001b[0m tokenized_input_data \u001b[38;5;241m=\u001b[39m [lcut(sentence) \u001b[38;5;28;01mfor\u001b[39;00m sentence \u001b[38;5;129;01min\u001b[39;00m input_texts]\n\u001b[0;32m     30\u001b[0m \u001b[38;5;66;03m# jiayan对古文进行分词\u001b[39;00m\n\u001b[1;32m---> 31\u001b[0m lm \u001b[38;5;241m=\u001b[39m \u001b[43mload_lm\u001b[49m\u001b[43m(\u001b[49m\u001b[38;5;124;43m'\u001b[39;49m\u001b[38;5;124;43mjiayan.klm\u001b[39;49m\u001b[38;5;124;43m'\u001b[39;49m\u001b[43m)\u001b[49m\n\u001b[0;32m     32\u001b[0m target_tokenizer \u001b[38;5;241m=\u001b[39m CharHMMTokenizer(lm)\n\u001b[0;32m     33\u001b[0m tokenized_target_data \u001b[38;5;241m=\u001b[39m [\u001b[38;5;28mlist\u001b[39m(target_tokenizer\u001b[38;5;241m.\u001b[39mtokenize(sentence)) \u001b[38;5;28;01mfor\u001b[39;00m sentence \u001b[38;5;129;01min\u001b[39;00m target_texts]\n",
      "File \u001b[1;32mc:\\Users\\Wang Lei\\.conda\\envs\\python3.9\\lib\\site-packages\\jiayan\\__init__.py:12\u001b[0m, in \u001b[0;36mload_lm\u001b[1;34m(lm)\u001b[0m\n\u001b[0;32m     11\u001b[0m \u001b[38;5;28;01mdef\u001b[39;00m \u001b[38;5;21mload_lm\u001b[39m(lm):\n\u001b[1;32m---> 12\u001b[0m     \u001b[38;5;28;01mreturn\u001b[39;00m \u001b[43mkenlm\u001b[49m\u001b[38;5;241;43m.\u001b[39;49m\u001b[43mLanguageModel\u001b[49m\u001b[43m(\u001b[49m\u001b[43mlm\u001b[49m\u001b[43m)\u001b[49m\n",
      "File \u001b[1;32mkenlm.pyx:142\u001b[0m, in \u001b[0;36mkenlm.Model.__init__\u001b[1;34m()\u001b[0m\n",
      "\u001b[1;31mOSError\u001b[0m: Cannot read model 'jiayan.klm' (util\\file.cc:74 in util::OpenReadOrThrow threw ErrnoException because `-1 == (ret = _open(name, 0x8000 | 0x0000))'. No such file or directory while opening c:\\Users\\Wang Lei\\PycharmProjects\\pythonProject\\jiayan.klm)"
     ]
    }
   ],
   "source": [
    "if __name__ == '__main__':\n",
    "    read_corpus(root_dir + '//' + books[0])\n",
    "\n",
    "    data_pre_work()\n",
    "\n",
    "    # 定义超参数\n",
    "    input_size = len(word2idx_input)\n",
    "    output_size = len(word2idx_target)\n",
    "    hidden_size = 256\n",
    "    learning_rate = 0.001\n",
    "    num_epochs = 100\n",
    "\n",
    "    # 初始化模型、损失函数和优化器\n",
    "    model = StyleTransferModel(input_size, hidden_size, output_size)\n",
    "    criterion = nn.CrossEntropyLoss()\n",
    "    optimizer = optim.Adam(model.parameters(), lr=learning_rate)\n",
    "    \n",
    "    # 训练模型\n",
    "    for epoch in range(num_epochs):\n",
    "        loss = train(model, input_data, target_data, criterion, optimizer)\n",
    "        print('Epoch: {}, Loss: {}'.format(epoch + 1, loss))\n",
    "    \n",
    "    # 进行预测\n",
    "    input_seq = input(\"请输入进行风格转换的句子:\")\n",
    "    input_words = lcut(input_seq)\n",
    "    int_input = []\n",
    "    for word in input_words:\n",
    "        if word in word2idx_input:\n",
    "            int_input.append(word2idx_input[word])\n",
    "    tensor_input = torch.zeros(maxlen_input, dtype=torch.long)\n",
    "    padded_input[:len(int_input)] = torch.tensor(int_input)\n",
    "    output_seq = predict(model, padded_input)\n",
    "    print(\"转换结果为:\")\n",
    "    print(output_seq)"
   ]
  }
 ],
 "metadata": {
  "kernelspec": {
   "display_name": "Python 3 (ipykernel)",
   "language": "python",
   "name": "python3"
  },
  "language_info": {
   "codemirror_mode": {
    "name": "ipython",
    "version": 3
   },
   "file_extension": ".py",
   "mimetype": "text/x-python",
   "name": "python",
   "nbconvert_exporter": "python",
   "pygments_lexer": "ipython3",
   "version": "3.9.18"
  }
 },
 "nbformat": 4,
 "nbformat_minor": 2
}
